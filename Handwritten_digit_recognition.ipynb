{
  "nbformat": 4,
  "nbformat_minor": 0,
  "metadata": {
    "colab": {
      "provenance": []
    },
    "kernelspec": {
      "name": "python3",
      "display_name": "Python 3"
    },
    "language_info": {
      "name": "python"
    }
  },
  "cells": [
    {
      "cell_type": "code",
      "execution_count": 23,
      "metadata": {
        "id": "rNjiWXVueaRO"
      },
      "outputs": [],
      "source": [
        "import os\n",
        "import numpy as np\n",
        "import pandas as pd\n",
        "import matplotlib.pyplot as plt\n",
        "import tensorflow as tf\n",
        "from tensorflow.keras.models import Sequential\n",
        "from tensorflow.keras.layers import Dense, Conv2D, MaxPooling2D, Flatten, Dropout\n",
        "from tensorflow.keras.optimizers import Adam\n",
        "\n"
      ]
    },
    {
      "cell_type": "code",
      "source": [
        "\n",
        "\n",
        "mnist = tf.keras.datasets.mnist"
      ],
      "metadata": {
        "id": "R-05iBMyeblY"
      },
      "execution_count": 24,
      "outputs": []
    },
    {
      "cell_type": "code",
      "source": [
        "\n",
        "(X_train,y_train),(X_test, y_test) = mnist.load_data()"
      ],
      "metadata": {
        "id": "TVZNjJTmekDk"
      },
      "execution_count": 25,
      "outputs": []
    },
    {
      "cell_type": "code",
      "source": [
        "\n",
        "\n",
        "##Normalizing the data to 0-1\n",
        "X_train = tf.keras.utils.normalize(X_train,axis = 1)\n",
        "X_test = tf.keras.utils.normalize(X_test, axis = 1)\n",
        "\n",
        "\n",
        "model = tf.keras.models.Sequential()\n",
        "\n",
        "model.add(tf.keras.layers.Flatten(input_shape = (28, 28, 1)))\n",
        "model.add(tf.keras.layers.Dense(128,activation= 'relu'))## rectifier linear unit\n",
        "model.add(tf.keras.layers.Dense(128,activation= 'relu'))## rectifier linear unit\n",
        "\n",
        "model.add(tf.keras.layers.Dense(10,activation= 'softmax'))## rectifier linear unit\n",
        "model.compile(optimizer = 'adam',loss = 'sparse_categorical_crossentropy', metrics = ['accuracy'] )\n",
        "\n",
        "\n"
      ],
      "metadata": {
        "id": "NJcD86BfeboK"
      },
      "execution_count": 26,
      "outputs": []
    },
    {
      "cell_type": "code",
      "source": [
        "\n",
        "\n",
        "\n",
        "model.fit(X_train, y_train, epochs=10, batch_size=128, validation_split=0.2)\n"
      ],
      "metadata": {
        "colab": {
          "base_uri": "https://localhost:8080/"
        },
        "id": "Qa4T0C6hebq9",
        "outputId": "9c25cbf8-4819-4e5d-e1ce-d19937c3fd21"
      },
      "execution_count": 27,
      "outputs": [
        {
          "output_type": "stream",
          "name": "stdout",
          "text": [
            "Epoch 1/10\n",
            "\u001b[1m375/375\u001b[0m \u001b[32m━━━━━━━━━━━━━━━━━━━━\u001b[0m\u001b[37m\u001b[0m \u001b[1m3s\u001b[0m 6ms/step - accuracy: 0.7956 - loss: 0.7735 - val_accuracy: 0.9418 - val_loss: 0.2037\n",
            "Epoch 2/10\n",
            "\u001b[1m375/375\u001b[0m \u001b[32m━━━━━━━━━━━━━━━━━━━━\u001b[0m\u001b[37m\u001b[0m \u001b[1m2s\u001b[0m 6ms/step - accuracy: 0.9471 - loss: 0.1835 - val_accuracy: 0.9550 - val_loss: 0.1523\n",
            "Epoch 3/10\n",
            "\u001b[1m375/375\u001b[0m \u001b[32m━━━━━━━━━━━━━━━━━━━━\u001b[0m\u001b[37m\u001b[0m \u001b[1m3s\u001b[0m 5ms/step - accuracy: 0.9624 - loss: 0.1271 - val_accuracy: 0.9627 - val_loss: 0.1240\n",
            "Epoch 4/10\n",
            "\u001b[1m375/375\u001b[0m \u001b[32m━━━━━━━━━━━━━━━━━━━━\u001b[0m\u001b[37m\u001b[0m \u001b[1m4s\u001b[0m 9ms/step - accuracy: 0.9740 - loss: 0.0904 - val_accuracy: 0.9662 - val_loss: 0.1111\n",
            "Epoch 5/10\n",
            "\u001b[1m375/375\u001b[0m \u001b[32m━━━━━━━━━━━━━━━━━━━━\u001b[0m\u001b[37m\u001b[0m \u001b[1m4s\u001b[0m 6ms/step - accuracy: 0.9783 - loss: 0.0720 - val_accuracy: 0.9672 - val_loss: 0.1084\n",
            "Epoch 6/10\n",
            "\u001b[1m375/375\u001b[0m \u001b[32m━━━━━━━━━━━━━━━━━━━━\u001b[0m\u001b[37m\u001b[0m \u001b[1m3s\u001b[0m 6ms/step - accuracy: 0.9823 - loss: 0.0571 - val_accuracy: 0.9704 - val_loss: 0.0982\n",
            "Epoch 7/10\n",
            "\u001b[1m375/375\u001b[0m \u001b[32m━━━━━━━━━━━━━━━━━━━━\u001b[0m\u001b[37m\u001b[0m \u001b[1m3s\u001b[0m 6ms/step - accuracy: 0.9857 - loss: 0.0470 - val_accuracy: 0.9712 - val_loss: 0.0937\n",
            "Epoch 8/10\n",
            "\u001b[1m375/375\u001b[0m \u001b[32m━━━━━━━━━━━━━━━━━━━━\u001b[0m\u001b[37m\u001b[0m \u001b[1m4s\u001b[0m 9ms/step - accuracy: 0.9888 - loss: 0.0369 - val_accuracy: 0.9728 - val_loss: 0.0942\n",
            "Epoch 9/10\n",
            "\u001b[1m375/375\u001b[0m \u001b[32m━━━━━━━━━━━━━━━━━━━━\u001b[0m\u001b[37m\u001b[0m \u001b[1m4s\u001b[0m 6ms/step - accuracy: 0.9924 - loss: 0.0277 - val_accuracy: 0.9713 - val_loss: 0.0977\n",
            "Epoch 10/10\n",
            "\u001b[1m375/375\u001b[0m \u001b[32m━━━━━━━━━━━━━━━━━━━━\u001b[0m\u001b[37m\u001b[0m \u001b[1m3s\u001b[0m 6ms/step - accuracy: 0.9937 - loss: 0.0228 - val_accuracy: 0.9697 - val_loss: 0.1052\n"
          ]
        },
        {
          "output_type": "execute_result",
          "data": {
            "text/plain": [
              "<keras.src.callbacks.history.History at 0x7912aebd9750>"
            ]
          },
          "metadata": {},
          "execution_count": 27
        }
      ]
    },
    {
      "cell_type": "code",
      "source": [
        "model.save('handwritten_mniste_keras.keras')"
      ],
      "metadata": {
        "id": "YaDkBULrebtx"
      },
      "execution_count": 28,
      "outputs": []
    },
    {
      "cell_type": "code",
      "source": [
        "model.save('handwritten_mniste_keras.keras')\n",
        "new_model = tf.keras.models.load_model('handwritten_mniste_keras.keras')"
      ],
      "metadata": {
        "id": "FRd6v7Jwebwi"
      },
      "execution_count": 18,
      "outputs": []
    },
    {
      "cell_type": "code",
      "source": [
        "\n",
        "\n",
        "loss,accuracy = new_model.evaluate(X_test, y_test)\n",
        "\n",
        "print(loss)\n",
        "print(accuracy)"
      ],
      "metadata": {
        "colab": {
          "base_uri": "https://localhost:8080/"
        },
        "id": "SSHkte_kebzQ",
        "outputId": "7596aec8-1f3f-46be-ba4b-7c16a0a458f7"
      },
      "execution_count": 29,
      "outputs": [
        {
          "output_type": "stream",
          "name": "stdout",
          "text": [
            "\u001b[1m313/313\u001b[0m \u001b[32m━━━━━━━━━━━━━━━━━━━━\u001b[0m\u001b[37m\u001b[0m \u001b[1m1s\u001b[0m 2ms/step - accuracy: 0.9685 - loss: 0.1136\n",
            "0.1005341038107872\n",
            "0.9728000164031982\n"
          ]
        }
      ]
    },
    {
      "cell_type": "code",
      "source": [],
      "metadata": {
        "id": "1u7rRJIYeb2u"
      },
      "execution_count": null,
      "outputs": []
    }
  ]
}